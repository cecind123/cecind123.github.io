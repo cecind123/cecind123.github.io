{
 "cells": [
  {
   "cell_type": "code",
   "execution_count": 1,
   "metadata": {},
   "outputs": [],
   "source": [
    "# Dependencies and Setup\n",
    "import numpy as np\n",
    "import pandas as pd "
   ]
  },
  {
   "cell_type": "code",
   "execution_count": 7,
   "metadata": {},
   "outputs": [
    {
     "data": {
      "text/html": [
       "<div>\n",
       "<style scoped>\n",
       "    .dataframe tbody tr th:only-of-type {\n",
       "        vertical-align: middle;\n",
       "    }\n",
       "\n",
       "    .dataframe tbody tr th {\n",
       "        vertical-align: top;\n",
       "    }\n",
       "\n",
       "    .dataframe thead th {\n",
       "        text-align: right;\n",
       "    }\n",
       "</style>\n",
       "<table border=\"1\" class=\"dataframe\">\n",
       "  <thead>\n",
       "    <tr style=\"text-align: right;\">\n",
       "      <th></th>\n",
       "      <th>City_ID</th>\n",
       "      <th>City</th>\n",
       "      <th>Cloudiness</th>\n",
       "      <th>Country</th>\n",
       "      <th>Date</th>\n",
       "      <th>Humidity</th>\n",
       "      <th>Lat</th>\n",
       "      <th>Lng</th>\n",
       "      <th>Max Temp</th>\n",
       "      <th>Wind Speed</th>\n",
       "    </tr>\n",
       "  </thead>\n",
       "  <tbody>\n",
       "    <tr>\n",
       "      <th>0</th>\n",
       "      <td>0</td>\n",
       "      <td>rikitea</td>\n",
       "      <td>31</td>\n",
       "      <td>PF</td>\n",
       "      <td>1571108248</td>\n",
       "      <td>82</td>\n",
       "      <td>-23.12</td>\n",
       "      <td>-134.97</td>\n",
       "      <td>73.976</td>\n",
       "      <td>4.050</td>\n",
       "    </tr>\n",
       "    <tr>\n",
       "      <th>1</th>\n",
       "      <td>1</td>\n",
       "      <td>avarua</td>\n",
       "      <td>70</td>\n",
       "      <td>CK</td>\n",
       "      <td>1571108248</td>\n",
       "      <td>69</td>\n",
       "      <td>-21.21</td>\n",
       "      <td>-159.78</td>\n",
       "      <td>77.000</td>\n",
       "      <td>6.200</td>\n",
       "    </tr>\n",
       "    <tr>\n",
       "      <th>2</th>\n",
       "      <td>2</td>\n",
       "      <td>saint-philippe</td>\n",
       "      <td>40</td>\n",
       "      <td>CA</td>\n",
       "      <td>1571108248</td>\n",
       "      <td>66</td>\n",
       "      <td>45.36</td>\n",
       "      <td>-73.48</td>\n",
       "      <td>48.200</td>\n",
       "      <td>2.552</td>\n",
       "    </tr>\n",
       "    <tr>\n",
       "      <th>3</th>\n",
       "      <td>3</td>\n",
       "      <td>albany</td>\n",
       "      <td>75</td>\n",
       "      <td>US</td>\n",
       "      <td>1571108249</td>\n",
       "      <td>61</td>\n",
       "      <td>42.65</td>\n",
       "      <td>-73.75</td>\n",
       "      <td>51.800</td>\n",
       "      <td>1.733</td>\n",
       "    </tr>\n",
       "    <tr>\n",
       "      <th>4</th>\n",
       "      <td>4</td>\n",
       "      <td>koumac</td>\n",
       "      <td>0</td>\n",
       "      <td>NC</td>\n",
       "      <td>1571108249</td>\n",
       "      <td>39</td>\n",
       "      <td>-20.56</td>\n",
       "      <td>164.28</td>\n",
       "      <td>76.352</td>\n",
       "      <td>4.582</td>\n",
       "    </tr>\n",
       "  </tbody>\n",
       "</table>\n",
       "</div>"
      ],
      "text/plain": [
       "   City_ID            City  Cloudiness Country        Date  Humidity    Lat  \\\n",
       "0        0         rikitea          31      PF  1571108248        82 -23.12   \n",
       "1        1          avarua          70      CK  1571108248        69 -21.21   \n",
       "2        2  saint-philippe          40      CA  1571108248        66  45.36   \n",
       "3        3          albany          75      US  1571108249        61  42.65   \n",
       "4        4          koumac           0      NC  1571108249        39 -20.56   \n",
       "\n",
       "      Lng  Max Temp  Wind Speed  \n",
       "0 -134.97    73.976       4.050  \n",
       "1 -159.78    77.000       6.200  \n",
       "2  -73.48    48.200       2.552  \n",
       "3  -73.75    51.800       1.733  \n",
       "4  164.28    76.352       4.582  "
      ]
     },
     "execution_count": 7,
     "metadata": {},
     "output_type": "execute_result"
    }
   ],
   "source": [
    "# File to Load\n",
    "cities_data = 'cities.csv'\n",
    "\n",
    "# Read School and Student Data File and store into Pandas Data Frames\n",
    "cities_df= pd.read_csv(cities_data)\n",
    "cities_df.head()\n"
   ]
  },
  {
   "cell_type": "code",
   "execution_count": 8,
   "metadata": {},
   "outputs": [],
   "source": [
    "# #Set index to City ID\n",
    "# cities_df = cities_df.set_index('City_ID')\n",
    "\n",
    "# cities_df.head()"
   ]
  },
  {
   "cell_type": "code",
   "execution_count": 6,
   "metadata": {},
   "outputs": [],
   "source": [
    "cities_df.to_html('Cities_Data_HTML', index=False)\n"
   ]
  },
  {
   "cell_type": "code",
   "execution_count": null,
   "metadata": {},
   "outputs": [],
   "source": []
  }
 ],
 "metadata": {
  "kernelspec": {
   "display_name": "Python 3",
   "language": "python",
   "name": "python3"
  },
  "language_info": {
   "codemirror_mode": {
    "name": "ipython",
    "version": 3
   },
   "file_extension": ".py",
   "mimetype": "text/x-python",
   "name": "python",
   "nbconvert_exporter": "python",
   "pygments_lexer": "ipython3",
   "version": "3.7.3"
  }
 },
 "nbformat": 4,
 "nbformat_minor": 4
}
